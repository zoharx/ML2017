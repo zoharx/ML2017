{
 "cells": [
  {
   "cell_type": "code",
   "execution_count": 1,
   "metadata": {
    "collapsed": true
   },
   "outputs": [],
   "source": [
    "import numpy as np\n",
    "from numpy import *\n",
    "from sklearn.externals.joblib import Memory\n",
    "from sklearn.datasets import load_svmlight_file\n",
    "from sklearn.model_selection import train_test_split\n",
    "import matplotlib.pylab as plt\n",
    "from matplotlib import *"
   ]
  },
  {
   "cell_type": "code",
   "execution_count": 2,
   "metadata": {
    "collapsed": true
   },
   "outputs": [],
   "source": [
    "#导入数据\n",
    "mem = Memory(\"./mycache1\")\n",
    "@mem.cache\n",
    "def get_data():\n",
    "    data = load_svmlight_file(\"australian_scale.txt\")\n",
    "    return data[0], data[1]\n",
    "X, y = get_data()"
   ]
  },
  {
   "cell_type": "code",
   "execution_count": 3,
   "metadata": {
    "collapsed": true
   },
   "outputs": [],
   "source": [
    "  # 划分训练集以及验证集\n",
    "Y=mat(y).T\n",
    "X_train, X_validation, Y_train, Y_validation = train_test_split(  X, Y, test_size=0.23, random_state=42)"
   ]
  },
  {
   "cell_type": "code",
   "execution_count": 4,
   "metadata": {
    "collapsed": true
   },
   "outputs": [],
   "source": [
    "#更改训练集，验证集格式\n",
    "X1_train=transpose(X_train.todense()).T\n",
    "X1_validation=transpose(X_validation.todense()).T"
   ]
  },
  {
   "cell_type": "code",
   "execution_count": 5,
   "metadata": {
    "collapsed": true
   },
   "outputs": [],
   "source": [
    "def Gradent_w(X,y,w,b,epoch):\n",
    "    G=[0 for i in range(X.shape[1])]\n",
    "    for i in range(y.size):\n",
    "        if(1-(y[i,0])*((X*w)[i,0])-b>=0):\n",
    "            for j in range(X.shape[1]):\n",
    "                G[j]=G[j]-y[i,0]*X[i,j]\n",
    "    return mat(G).T"
   ]
  },
  {
   "cell_type": "code",
   "execution_count": 6,
   "metadata": {
    "collapsed": true
   },
   "outputs": [],
   "source": [
    "def computeLoss(X,y,w,b,epoch):\n",
    "    L=[0 for i in range(y.size)]\n",
    "    l=0\n",
    "    for i in range(y.size):\n",
    "        if(1-(y[i,0])*((X*w)[i,0])-b>=0):\n",
    "            L[i]=1-(y[i,0])*((X*w)[i,0])-b\n",
    "    for i in range(y.size):\n",
    "        l=l+L[i]\n",
    "    l=l*epoch   \n",
    "    for i in range(X.shape[1]):\n",
    "        l=l+(w[i,0]**2)/2\n",
    "    return l/y.size"
   ]
  },
  {
   "cell_type": "code",
   "execution_count": 7,
   "metadata": {
    "collapsed": true
   },
   "outputs": [],
   "source": [
    "def Gradent_b(X,y,w,b):\n",
    "    G=0\n",
    "    for i in range(y.size):\n",
    "        if(1-(y[i,0])*((X*w)[i,0])-b>=0):\n",
    "            G=G-y[i,0]\n",
    "    return G "
   ]
  },
  {
   "cell_type": "code",
   "execution_count": 11,
   "metadata": {},
   "outputs": [],
   "source": [
    "#初始化参数\n",
    "w=mat(zeros((14,1))) #全零初始化\n",
    "C=0.1 #eooch\n",
    "eta=0.001 #学习率\n",
    "times=100  #学习次数\n",
    "count=[]\n",
    "L_train=[]\n",
    "L_validation=[]\n",
    "b=0\n",
    "for i in range(times):\n",
    "    w=w-eta*(w+C*Gradent_w(X1_train,Y_train,w,b,C))\n",
    "    b=b-eta*(C*Gradent_b(X1_train,Y_train,w,b))\n",
    "    L_train.append(computeLoss(X1_train,Y_train,w,b,C))\n",
    "    L_validation.append(computeLoss(X1_validation,Y_validation,w,b,C))\n",
    "for i in range(times):\n",
    "    count.append(i)"
   ]
  },
  {
   "cell_type": "code",
   "execution_count": 12,
   "metadata": {},
   "outputs": [
    {
     "data": {
      "image/png": "[encoded data removed]",
      "text/plain": [
       "<matplotlib.figure.Figure at 0x2637104fa90>"
      ]
     },
     "metadata": {},
     "output_type": "display_data"
    }
   ],
   "source": [
    "#画图部分\n",
    "x = count\n",
    "y1 = L_train\n",
    "y2 = L_validation\n",
    "plt.plot(x,y1,\"b-\",linewidth=2,label='Ltrain')\n",
    "plt.plot(x,y2,\"r-\",linewidth=2,label='Lvalidation')\n",
    "plt . ylabel (\" Value\"  )  \n",
    "plt . xlabel (\"Repeat times\"  )  \n",
    "plt . title ('Figure of L_train and L_validation with changes in the number of iterations')    \n",
    "plt.legend()  \n",
    "plt.show()  "
   ]
  },
  {
   "cell_type": "code",
   "execution_count": null,
   "metadata": {
    "collapsed": true
   },
   "outputs": [],
   "source": []
  }
 ],
 "metadata": {
  "kernelspec": {
   "display_name": "Python 3",
   "language": "python",
   "name": "python3"
  },
  "language_info": {
   "codemirror_mode": {
    "name": "ipython",
    "version": 3
   },
   "file_extension": ".py",
   "mimetype": "text/x-python",
   "name": "python",
   "nbconvert_exporter": "python",
   "pygments_lexer": "ipython3",
   "version": "3.6.3"
  }
 },
 "nbformat": 4,
 "nbformat_minor": 2
}
